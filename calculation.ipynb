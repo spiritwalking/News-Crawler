{
 "cells": [
  {
   "cell_type": "code",
   "execution_count": 201,
   "outputs": [],
   "source": [
    "import re\n",
    "from collections import Counter\n",
    "import math\n",
    "from matplotlib import pyplot as plt"
   ],
   "metadata": {
    "collapsed": false,
    "pycharm": {
     "name": "#%%\n"
    }
   }
  },
  {
   "cell_type": "markdown",
   "source": [
    "读取中文语料并清洗"
   ],
   "metadata": {
    "collapsed": false,
    "pycharm": {
     "name": "#%% md\n"
    }
   }
  },
  {
   "cell_type": "code",
   "execution_count": 202,
   "outputs": [
    {
     "data": {
      "text/plain": "30463770"
     },
     "execution_count": 202,
     "metadata": {},
     "output_type": "execute_result"
    }
   ],
   "source": [
    "with open(\"data/rmrb.txt\", 'r') as f:\n",
    "    corpus = f.read()\n",
    "\n",
    "corpus = re.sub(\"[^\\u4e00-\\u9fa5]+\", '', corpus)  # 过滤非汉字内容\n",
    "total_chars = len(corpus)\n",
    "total_chars"
   ],
   "metadata": {
    "collapsed": false,
    "pycharm": {
     "name": "#%%\n"
    }
   }
  },
  {
   "cell_type": "markdown",
   "source": [
    "在2M规模语料上计算汉字的概率和熵"
   ],
   "metadata": {
    "collapsed": false,
    "pycharm": {
     "name": "#%% md\n"
    }
   }
  },
  {
   "cell_type": "code",
   "execution_count": 203,
   "outputs": [],
   "source": [
    "def cal_entrophy(counter, num):\n",
    "    entropy = 0\n",
    "\n",
    "    # 计算每个字的概率和熵\n",
    "    for _, count in counter.items():\n",
    "        probability = count / num\n",
    "        entropy -= probability * math.log2(probability)\n",
    "    return entropy"
   ],
   "metadata": {
    "collapsed": false,
    "pycharm": {
     "name": "#%%\n"
    }
   }
  },
  {
   "cell_type": "code",
   "execution_count": 204,
   "outputs": [
    {
     "data": {
      "text/plain": "Counter({'烈': 389,\n         '士': 523,\n         '纪': 1243,\n         '念': 1362,\n         '日': 8035,\n         '向': 3346,\n         '人': 17468,\n         '民': 13044,\n         '英': 383,\n         '雄': 308,\n         '敬': 125,\n         '献': 1019,\n         '花': 692,\n         '篮': 137,\n         '仪': 240,\n         '式': 3057,\n         '在': 12425,\n         '京': 1321,\n         '隆': 111,\n         '重': 5965,\n         '举': 2878,\n         '行': 7497,\n         '习': 6775,\n         '近': 7126,\n         '平': 9404,\n         '李': 1010,\n         '克': 2140,\n         '强': 7613,\n         '栗': 163,\n         '战': 4028,\n         '书': 4264,\n         '汪': 174,\n         '洋': 573,\n         '王': 848,\n         '沪': 148,\n         '宁': 606,\n         '赵': 315,\n         '乐': 568,\n         '际': 2420,\n         '韩': 274,\n         '正': 2730,\n         '岐': 50,\n         '山': 2564,\n         '出': 7917,\n         '席': 1437,\n         '本': 3557,\n         '报': 2978,\n         '北': 1914,\n         '月': 7358,\n         '电': 2373,\n         '记': 4954,\n         '者': 2431,\n         '徐': 244,\n         '隽': 17,\n         '天': 2268,\n         '地': 5824,\n         '气': 1325,\n         '千': 711,\n         '秋': 364,\n         '尚': 111,\n         '凛': 5,\n         '然': 1110,\n         '上': 7198,\n         '午': 164,\n         '安': 3163,\n         '门': 1276,\n         '广': 2110,\n         '场': 2422,\n         '党': 16386,\n         '和': 15201,\n         '国': 32638,\n         '家': 7985,\n         '领': 5656,\n         '导': 3883,\n         '等': 4038,\n         '同': 6597,\n         '各': 3372,\n         '界': 3015,\n         '代': 11349,\n         '表': 5358,\n         '一': 16150,\n         '起': 2184,\n         '壮': 555,\n         '阔': 348,\n         '的': 48910,\n         '鲜': 399,\n         '艳': 69,\n         '五': 1258,\n         '星': 511,\n         '红': 863,\n         '旗': 658,\n         '高': 6421,\n         '飘': 51,\n         '扬': 729,\n         '碑': 187,\n         '巍': 73,\n         '耸': 22,\n         '立': 3415,\n         '中': 30115,\n         '央': 5195,\n         '祝': 485,\n         '福': 1525,\n         '祖': 310,\n         '巨': 603,\n         '型': 1424,\n         '达': 1496,\n         '着': 2575,\n         '对': 5046,\n         '繁': 455,\n         '荣': 736,\n         '富': 1369,\n         '美': 2009,\n         '好': 4486,\n         '愿': 521,\n         '喜': 293,\n         '迎': 517,\n         '二': 4197,\n         '十': 7696,\n         '大': 19684,\n         '字': 771,\n         '样': 944,\n         '传': 1592,\n         '递': 195,\n         '全': 16035,\n         '军': 2271,\n         '族': 3271,\n         '胜': 879,\n         '利': 2428,\n         '召': 824,\n         '开': 5864,\n         '热': 618,\n         '切': 931,\n         '期': 2203,\n         '盼': 165,\n         '临': 343,\n         '时': 8025,\n         '来': 6705,\n         '到': 5054,\n         '解': 1799,\n         '放': 2156,\n         '团': 2569,\n         '小': 2153,\n         '号': 836,\n         '手': 1161,\n         '吹': 78,\n         '响': 664,\n         '深': 4096,\n         '沉': 129,\n         '悠': 69,\n         '远': 1157,\n         '角': 332,\n         '礼': 184,\n         '兵': 231,\n         '就': 3820,\n         '位': 2239,\n         '随': 381,\n         '令': 245,\n         '三': 2414,\n         '仗': 114,\n         '迈': 561,\n         '铿': 50,\n         '锵': 50,\n         '有': 8262,\n         '力': 8790,\n         '步': 2495,\n         '伐': 179,\n         '进': 10405,\n         '前': 3659,\n         '持': 6883,\n         '枪': 34,\n         '伫': 4,\n         '整': 1249,\n         '始': 1053,\n         '奏': 50,\n         '义': 6220,\n         '勇': 660,\n         '曲': 178,\n         '齐': 322,\n         '声': 442,\n         '唱': 128,\n         '华': 4013,\n         '共': 9599,\n         '歌': 206,\n         '毕': 161,\n         '肃': 205,\n         '为': 10401,\n         '事': 4361,\n         '业': 10381,\n         '建': 10604,\n         '设': 6481,\n         '身': 902,\n         '默': 84,\n         '哀': 16,\n         '少': 667,\n         '年': 12816,\n         '儿': 348,\n         '童': 79,\n         '面': 7009,\n         '我': 7235,\n         '们': 5001,\n         '是': 8927,\n         '产': 7314,\n         '主': 10550,\n         '接': 1325,\n         '班': 554,\n         '并': 1836,\n         '致': 931,\n         '先': 1409,\n         '锋': 181,\n         '队': 1580,\n         '方': 4869,\n         '阵': 157,\n         '以': 6954,\n         '常': 1634,\n         '委': 3769,\n         '会': 14707,\n         '务': 6154,\n         '院': 2671,\n         '政': 5997,\n         '协': 1622,\n         '派': 356,\n         '工': 7513,\n         '商': 1307,\n         '联': 1579,\n         '无': 989,\n         '爱': 563,\n         '体': 7034,\n         '群': 2287,\n         '众': 2164,\n         '老': 1636,\n         '志': 2174,\n         '亲': 615,\n         '属': 212,\n         '名': 1473,\n         '个': 6148,\n         '排': 603,\n         '色': 4308,\n         '缎': 7,\n         '带': 2124,\n         '写': 813,\n         '永': 515,\n         '垂': 17,\n         '不': 7459,\n         '朽': 10,\n         '金': 2002,\n         '情': 1816,\n         '稳': 1421,\n         '抬': 30,\n         '缓': 106,\n         '走': 1742,\n         '将': 2415,\n         '摆': 148,\n         '基': 4162,\n         '座': 631,\n         '登': 209,\n         '驻': 317,\n         '足': 819,\n         '凝': 441,\n         '视': 1181,\n         '挺': 42,\n         '拔': 177,\n         '掌': 345,\n         '芬': 32,\n         '芳': 73,\n         '吐': 51,\n         '蕊': 9,\n         '百': 1831,\n         '合': 4732,\n         '轻': 311,\n         '盈': 29,\n         '绽': 45,\n         '文': 5056,\n         '心': 5747,\n         '兰': 275,\n         '寄': 40,\n         '托': 380,\n         '缅': 47,\n         '怀': 384,\n         '崇': 107,\n         '意': 3166,\n         '仔': 34,\n         '细': 398,\n         '理': 5734,\n         '后': 1922,\n         '绕': 353,\n         '瞻': 85,\n         '仰': 82,\n         '八': 1375,\n         '核': 1823,\n         '坚': 6951,\n         '下': 2859,\n         '结': 2866,\n         '砥': 167,\n         '砺': 155,\n         '奋': 2834,\n         '取': 2038,\n         '得': 3283,\n         '历': 3293,\n         '史': 3605,\n         '性': 4239,\n         '成': 8534,\n         '发': 17461,\n         '生': 7963,\n         '变': 2366,\n         '革': 3463,\n         '社': 7386,\n         '现': 8375,\n         '化': 10399,\n         '第': 3426,\n         '斗': 2612,\n         '目': 3001,\n         '标': 2410,\n         '新': 16058,\n         '征': 1401,\n         '程': 3762,\n         '赓': 34,\n         '续': 2518,\n         '精': 2719,\n         '神': 2005,\n         '汲': 50,\n         '量': 4080,\n         '定': 4878,\n         '能': 5671,\n         '够': 293,\n         '谱': 280,\n         '更': 4795,\n         '加': 6054,\n         '辉': 324,\n         '煌': 167,\n         '篇': 429,\n         '章': 1018,\n         '也': 1566,\n         '依': 885,\n         '次': 3149,\n         '由': 1043,\n         '治': 6156,\n         '局': 2941,\n         '员': 3486,\n         '市': 4216,\n         '蔡': 105,\n         '奇': 296,\n         '处': 1144,\n         '部': 4581,\n         '分': 3032,\n         '副': 662,\n         '长': 4404,\n         '最': 2384,\n         '法': 3583,\n         '检': 637,\n         '察': 961,\n         '关': 5406,\n         '要': 7865,\n         '负': 935,\n         '责': 1266,\n         '功': 1219,\n         '勋': 204,\n         '誉': 233,\n         '获': 770,\n         '冬': 280,\n         '奥': 370,\n         '残': 142,\n         '突': 855,\n         '贡': 728,\n         '集': 2068,\n         '首': 1387,\n         '都': 1405,\n         '参': 1281,\n         '了': 8644,\n         '见': 2047,\n         '客': 568,\n         '机': 3319,\n         '项': 2385,\n         '观': 1453,\n         '果': 1414,\n         '展': 13742,\n         '览': 275,\n         '调': 2778,\n         '充': 1126,\n         '挥': 896,\n         '制': 4612,\n         '优': 2228,\n         '势': 1444,\n         '贯': 1506,\n         '之': 3159,\n         '善': 1692,\n         '终': 960,\n         '久': 455,\n         '努': 753,\n         '实': 9786,\n         '端': 280,\n         '装': 637,\n         '备': 911,\n         '造': 3228,\n         '多': 4664,\n         '破': 758,\n         '活': 2588,\n         '动': 7828,\n         '总': 4660,\n         '堂': 311,\n         '肯': 95,\n         '研': 1937,\n         '任': 2417,\n         '阶': 602,\n         '段': 766,\n         '他': 1017,\n         '让': 1531,\n         '飞': 566,\n         '翱': 18,\n         '翔': 78,\n         '蓝': 330,\n         '承': 650,\n         '载': 405,\n         '梦': 535,\n         '想': 2884,\n         '质': 3221,\n         '键': 784,\n         '技': 3452,\n         '术': 1805,\n         '攻': 1072,\n         '快': 1695,\n         '规': 2403,\n         '模': 1207,\n         '系': 4241,\n         '列': 1305,\n         '扎': 496,\n         '推': 6710,\n         '伟': 3315,\n         '复': 2360,\n         '兴': 3187,\n         '懈': 177,\n         '许': 545,\n         '东': 1626,\n         '厅': 809,\n         '交': 1885,\n         '流': 1544,\n         '影': 712,\n         '留': 312,\n         '示': 2370,\n         '你': 136,\n         '栋': 41,\n         '梁': 183,\n         '臣': 11,\n         '可': 1786,\n         '聚': 1119,\n         '焦': 356,\n         '继': 854,\n         '把': 2771,\n         '靠': 438,\n         '消': 809,\n         '除': 399,\n         '隐': 80,\n         '患': 188,\n         '办': 2075,\n         '河': 1624,\n         '听': 438,\n         '计': 1451,\n         '试': 757,\n         '验': 1279,\n         '适': 293,\n         '航': 1080,\n         '介': 474,\n         '绍': 462,\n         '看': 1104,\n         '详': 46,\n         '询': 53,\n         '问': 2304,\n         '况': 383,\n         '眼': 410,\n         '略': 2121,\n         '根': 1278,\n         '据': 905,\n         '选': 1276,\n         '择': 216,\n         '确': 1881,\n         '路': 3615,\n         '线': 1648,\n         '茬': 22,\n         '干': 2217,\n         '件': 1309,\n         '世': 3222,\n         '科': 3266,\n         '巅': 10,\n         '峰': 685,\n         '攀': 93,\n         '丁': 112,\n         '薛': 61,\n         '祥': 125,\n         '刘': 431,\n         '鹤': 53,\n         '何': 435,\n         '述': 424,\n         '按': 289,\n         '照': 482,\n         '通': 3475,\n         '准': 1434,\n         '自': 5191,\n         '具': 1121,\n         '知': 663,\n         '识': 1147,\n         '权': 1154,\n         '喷': 23,\n         '于': 4218,\n         '完': 2034,\n         '审': 515,\n         '作': 10154,\n         '用': 3295,\n         '空': 986,\n         '颁': 119,\n         '格': 1337,\n         '证': 895,\n         '底': 894,\n         '付': 195,\n         '架': 222,\n         '里': 1926,\n         '探': 761,\n         '索': 596,\n         '条': 1387,\n         '统': 3308,\n         '球': 1704,\n         '招': 230,\n         '逐': 287,\n         '提': 5192,\n         '升': 1937,\n         '子': 1796,\n         '培': 979,\n         '养': 1302,\n         '支': 1909,\n         '信': 2455,\n         '甘': 151,\n         '奉': 118,\n         '敢': 349,\n         '打': 1727,\n         '硬': 235,\n         '野': 210,\n         '才': 1817,\n         '伍': 324,\n         '丰': 710,\n         '硕': 81,\n         '积': 1281,\n         '累': 461,\n         '宝': 244,\n         '贵': 348,\n         '经': 5368,\n         '庆': 635,\n         '周': 990,\n         '待': 468,\n         '辞': 141,\n         '晚': 110,\n         '与': 3041,\n         '外': 2236,\n         '欢': 172,\n         '诞': 52,\n         '宴': 29,\n         '灯': 113,\n         '璀': 18,\n         '璨': 18,\n         '溢': 32,\n         '节': 913,\n         '氛': 122,\n         '台': 1534,\n         '庄': 310,\n         '严': 1220,\n         '徽': 151,\n         '悬': 40,\n         '映': 314,\n         '衬': 13,\n         '醒': 152,\n         '伴': 326,\n         '宾': 102,\n         '入': 3726,\n         '贺': 291,\n         '港': 1193,\n         '澳': 465,\n         '胞': 146,\n         '湾': 382,\n         '海': 2501,\n         '侨': 117,\n         '候': 391,\n         '友': 407,\n         '衷': 113,\n         '感': 1421,\n         '谢': 135,\n         '说': 2488,\n         '图': 636,\n         '种': 1377,\n         '艰': 325,\n         '难': 1191,\n         '险': 934,\n         '阻': 165,\n         '瞩': 166,\n         '今': 1524,\n         '这': 3574,\n         '刻': 972,\n         '极': 1240,\n         '寻': 180,\n         '杂': 263,\n         '峻': 130,\n         '内': 2344,\n         '形': 1759,\n         '锐': 93,\n         '求': 1762,\n         '彻': 1295,\n         '构': 2140,\n         '筹': 764,\n         '疫': 914,\n         '防': 1175,\n         '控': 773,\n         '济': 3396,\n         '宏': 324,\n         '策': 1375,\n         '施': 2133,\n         '度': 3671,\n         '改': 3353,\n         '激': 647,\n         '增': 2950,\n         '保': 4614,\n         '物': 1883,\n         '价': 699,\n         '水': 3513,\n         '障': 1244,\n         '应': 1657,\n         '旱': 39,\n         '涝': 20,\n         '震': 116,\n         '灾': 194,\n         '害': 151,\n         '绩': 260,\n         '殊': 96,\n         '易': 846,\n         '指': 2706,\n         '住': 752,\n         '盘': 171,\n         '超': 1018,\n         '预': 504,\n         '因': 508,\n         '素': 533,\n         '冲': 215,\n         '击': 236,\n         '及': 1158,\n         '断': 2285,\n         '揽': 117,\n         '置': 499,\n         '措': 831,\n         '扩': 467,\n         '效': 1786,\n         '需': 1000,\n         '创': 5061,\n         '驱': 216,\n         '促': 1280,\n         '城': 2436,\n         '乡': 2522,\n         '区': 5636,\n         '域': 1802,\n         '村': 5005,\n         '振': 1118,\n         '当': 2055,\n         '仍': 169,\n         '困': 715,\n         '挑': 525,\n         '落': 1485,\n         '己': 603,\n         '巩': 395,\n         '固': 666,\n         '回': 866,\n         '础': 1054,\n         '运': 2174,\n         '间': 1677,\n         '两': 2057,\n         '毫': 119,\n         '摇': 125,\n         '育': 2305,\n         '营': 982,\n         '环': 1795,\n         '境': 1538,\n         '贸': 836,\n         '资': 2222,\n         '双': 607,\n         '边': 840,\n         '投': 1025,\n         '土': 662,\n         '赢': 559,\n         '而': 1359,\n         '往': 679,\n         '冷': 102,\n         '暖': 175,\n         '危': 252,\n         '挂': 150,\n         '惠': 501,\n         '便': 412,\n         '拓': 447,\n         '脱': 869,\n         '贫': 1525,\n         '妥': 47,\n         '做': 1413,\n         '受': 973,\n         '救': 273,\n         '助': 1023,\n         '兜': 45,\n         '牢': 1234,\n         '教': 2024,\n         '医': 1031,\n         '疗': 510,\n         '房': 362,\n         '祉': 172,\n         '移': 540,\n         '针': 457,\n         '特': 4314,\n         '别': 920,\n         '府': 749,\n         '融': 1426,\n         '香': 603,\n         '决': 2892,\n         '题': 2562,\n         '原': 1074,\n         '则': 597,\n         '九': 1000,\n         '反': 891,\n         '独': 353,\n         '裂': 64,\n         '涉': 272,\n         '岸': 326,\n         '道': 2475,\n         '类': 1653,\n         '命': 2527,\n         '携': 300,\n         '帜': 281,\n         '紧': 770,\n         '密': 596,\n         '围': 747,\n         '思': 3644,\n         '明': 3388,\n         '谐': 309,\n         '丽': 548,\n         '朋': 98,\n         '杯': 140,\n         '幸': 527,\n         '康': 1265,\n         '谊': 86,\n         '存': 388,\n         '还': 1162,\n         '监': 999,\n         '从': 2831,\n         '职': 980,\n         '退': 224,\n         '曾': 299,\n         '担': 836,\n         '劳': 416,\n         '范': 1303,\n         '数': 1762,\n         '使': 1229,\n         '组': 2676,\n         '织': 1643,\n         '专': 1332,\n         '版': 670,\n         '顾': 194,\n         '肩': 85,\n         '苦': 281,\n         '卓': 102,\n         '绝': 236,\n         '争': 1165,\n         '吞': 42,\n         '诗': 84,\n         '论': 1923,\n         '弱': 143,\n         '顺': 298,\n         '逆': 108,\n         '初': 587,\n         '矢': 88,\n         '渝': 107,\n         '万': 2728,\n         '牺': 35,\n         '牲': 39,\n         '折': 138,\n         '修': 929,\n         '错': 111,\n         '误': 69,\n         '又': 513,\n         '似': 46,\n         '彪': 58,\n         '炳': 77,\n         '册': 169,\n         '迹': 265,\n         '比': 1376,\n         '半': 277,\n         '松': 296,\n         '敲': 38,\n         '锣': 27,\n         '鼓': 396,\n         '必': 1627,\n         '须': 951,\n         '抵': 99,\n         '御': 27,\n         '风': 2203,\n         '服': 2747,\n         '矛': 234,\n         '盾': 249,\n         '点': 2396,\n         '认': 1018,\n         '夺': 183,\n         '觉': 431,\n         '直': 608,\n         '刮': 54,\n         '骨': 220,\n         '毒': 104,\n         '损': 90,\n         '纯': 90,\n         '洁': 389,\n         '清': 1215,\n         '侵': 51,\n         '蚀': 14,\n         '健': 1373,\n         '肌': 16,\n         '病': 319,\n         '引': 1976,\n         '葆': 72,\n         '旺': 117,\n         '盛': 230,\n         '践': 1376,\n         '尽': 261,\n         '辛': 97,\n         '既': 362,\n         '封': 98,\n         '闭': 138,\n         '僵': 25,\n         '邪': 39,\n         '邦': 70,\n         '相': 1632,\n         '互': 919,\n         '其': 1097,\n         '考': 1191,\n         '筑': 279,\n         '磅': 78,\n         '礴': 75,\n         '讲': 1764,\n         '故': 382,\n         '辑': 76,\n         '话': 1980,\n         '演': 416,\n         '过': 3533,\n         '彩': 283,\n         '抽': 30,\n         '象': 637,\n         '俗': 103,\n         '浅': 20,\n         '显': 1030,\n         '染': 288,\n         '读': 328,\n         '沿': 429,\n         '例': 619,\n         '管': 1681,\n         '德': 886,\n         '品': 2013,\n         '六': 459,\n         '帮': 425,\n         '学': 4885,\n         '限': 515,\n         '公': 3991,\n         '司': 986,\n         '单': 895,\n         '慰': 28,\n         '吃': 225,\n         '良': 510,\n         '锲': 26,\n         '舍': 92,\n         '追': 325,\n         '越': 1496,\n         '即': 240,\n         '悟': 246,\n         '四': 1508,\n         '维': 1234,\n         '护': 2659,\n         '忘': 172,\n         '再': 669,\n         '七': 383,\n         '披': 27,\n         '锦': 176,\n         '绣': 67,\n         '栉': 15,\n         '沐': 20,\n         '雨': 286,\n         '春': 380,\n         '亿': 1625,\n         '女': 389,\n         '满': 943,\n         '昂': 105,\n         '轮': 297,\n         '镌': 21,\n         '去': 940,\n         '届': 1727,\n         '议': 3183,\n         '归': 189,\n         '豪': 146,\n         '袤': 50,\n         '腾': 101,\n         '勃': 199,\n         '异': 228,\n         '韧': 107,\n         '欣': 133,\n         '屈': 14,\n         '挠': 6,\n         '息': 533,\n         '荆': 39,\n         '斩': 35,\n         '棘': 20,\n         '凯': 52,\n         '凡': 308,\n         '遭': 85,\n         '遇': 450,\n         '浪': 316,\n         '急': 309,\n         '甚': 73,\n         '至': 1277,\n         '惊': 98,\n         '涛': 124,\n         '骇': 46,\n         '所': 1603,\n         '罕': 103,\n         '守': 739,\n         '采': 678,\n         '没': 604,\n         '站': 815,\n         '跃': 282,\n         '转': 1154,\n         '舵': 99,\n         '光': 1148,\n         '未': 1266,\n         '冉': 20,\n         '浴': 41,\n         '火': 434,\n         '曙': 4,\n         '希': 328,\n         '望': 631,\n         '已': 1130,\n         '屹': 27,\n         '速': 820,\n         '综': 658,\n         '谦': 20,\n         '虚': 52,\n         '谨': 50,\n         '慎': 32,\n         '戒': 36,\n         '骄': 14,\n         '躁': 1,\n         '云': 508,\n         '如': 1177,\n         '幻': 31,\n         '咬': 19,\n         '青': 1121,\n         '执': 689,\n         '握': 801,\n         '布': 1180,\n         '踔': 163,\n         '厉': 230,\n         '毅': 238,\n         '崭': 82,\n         '律': 787,\n         '但': 310,\n         '被': 404,\n         '抓': 782,\n         '顽': 110,\n         '劲': 290,\n         '拧': 26,\n         '股': 208,\n         '绳': 41,\n         '铆': 16,\n         '汇': 325,\n         '谋': 550,\n         '划': 1245,\n         '乃': 73,\n         '舞': 294,\n         '拼': 138,\n         '搏': 88,\n         '滚': 72,\n         '催': 91,\n         '夏': 226,\n         '源': 2087,\n         '卫': 748,\n         '沙': 406,\n         '漠': 64,\n         '吉': 327,\n         '瓦': 278,\n         '伏': 151,\n         '辆': 135,\n         '车': 1110,\n         '忙': 123,\n         '碌': 23,\n         '块': 172,\n         '板': 291,\n         '卸': 24,\n         '井': 70,\n         '序': 413,\n         '湘': 72,\n         '配': 570,\n         '套': 228,\n         '压': 325,\n         '输': 225,\n         '湖': 955,\n         '南': 1943,\n         '网': 1246,\n         '供': 1681,\n         ...})"
     },
     "execution_count": 204,
     "metadata": {},
     "output_type": "execute_result"
    }
   ],
   "source": [
    "mini_corpus = corpus[:2000000]\n",
    "char_count = Counter(mini_corpus)\n",
    "char_count"
   ],
   "metadata": {
    "collapsed": false,
    "pycharm": {
     "name": "#%%\n"
    }
   }
  },
  {
   "cell_type": "code",
   "execution_count": 208,
   "outputs": [
    {
     "name": "stdout",
     "output_type": "stream",
     "text": [
      "|1|的 | 0.001606|\n",
      "|2|国 | 0.001071|\n",
      "|3|中 | 0.000989|\n",
      "|4|大 | 0.000646|\n",
      "|5|人 | 0.000573|\n",
      "|6|发 | 0.000573|\n",
      "|7|党 | 0.000538|\n",
      "|8|一 | 0.000530|\n",
      "|9|新 | 0.000527|\n",
      "|10|全 | 0.000526|\n"
     ]
    }
   ],
   "source": [
    "sorted_char_count = dict(sorted(char_count.items(), key=lambda x: x[1], reverse=True))\n",
    "for i, (x, y) in enumerate(sorted_char_count.items()):\n",
    "    if i < 10:\n",
    "        print(f\"|{i+1}|{x} | {(y / total_chars):.6f}|\")"
   ],
   "metadata": {
    "collapsed": false,
    "pycharm": {
     "name": "#%%\n"
    }
   }
  },
  {
   "cell_type": "code",
   "execution_count": 206,
   "outputs": [
    {
     "data": {
      "text/plain": "9.34206766165239"
     },
     "execution_count": 206,
     "metadata": {},
     "output_type": "execute_result"
    }
   ],
   "source": [
    "cal_entrophy(char_count, 2000000)"
   ],
   "metadata": {
    "collapsed": false,
    "pycharm": {
     "name": "#%%\n"
    }
   }
  },
  {
   "cell_type": "code",
   "execution_count": 209,
   "outputs": [],
   "source": [
    "entropy_list = []\n",
    "\n",
    "for i in range(2000000, total_chars, 2000000):\n",
    "    entropy = cal_entrophy(Counter(corpus[:i]) ,i)\n",
    "    entropy_list.append(entropy)"
   ],
   "metadata": {
    "collapsed": false,
    "pycharm": {
     "name": "#%%\n"
    }
   }
  },
  {
   "cell_type": "code",
   "execution_count": 178,
   "outputs": [
    {
     "data": {
      "text/plain": "[9.34206766165239,\n 9.382282905598379,\n 9.447642423387505,\n 9.469972860370758,\n 9.521465344949616,\n 9.552519596762746,\n 9.549254031504697,\n 9.542406511915285,\n 9.553518663125569,\n 9.563228474119956,\n 9.563781846275134,\n 9.569357260144566,\n 9.572729330782725,\n 9.580943801976781,\n 9.581830069487703]"
     },
     "execution_count": 178,
     "metadata": {},
     "output_type": "execute_result"
    }
   ],
   "source": [
    "entropy_list"
   ],
   "metadata": {
    "collapsed": false,
    "pycharm": {
     "name": "#%%\n"
    }
   }
  },
  {
   "cell_type": "code",
   "execution_count": 210,
   "outputs": [
    {
     "data": {
      "text/plain": "<Figure size 640x480 with 1 Axes>",
      "image/png": "[encoded data removed]"
     },
     "metadata": {},
     "output_type": "display_data"
    }
   ],
   "source": [
    "plt.plot([2*i for i in range(1, 16)],entropy_list)\n",
    "plt.xticks([2*i for i in range(1, 16)])\n",
    "plt.xlabel(\"Data scale(M)\")\n",
    "plt.ylabel(\"entropy\")\n",
    "plt.show()"
   ],
   "metadata": {
    "collapsed": false,
    "pycharm": {
     "name": "#%%\n"
    }
   }
  },
  {
   "cell_type": "markdown",
   "source": [
    "验证齐夫定律"
   ],
   "metadata": {
    "collapsed": false,
    "pycharm": {
     "name": "#%% md\n"
    }
   }
  },
  {
   "cell_type": "code",
   "execution_count": 217,
   "outputs": [
    {
     "name": "stdout",
     "output_type": "stream",
     "text": [
      "|1|的 | 0.023056|\n",
      "|2|国 | 0.012418|\n",
      "|3|中 | 0.011122|\n",
      "|4|一 | 0.008214|\n",
      "|5|人 | 0.007562|\n",
      "|6|发 | 0.007465|\n",
      "|7|大 | 0.007313|\n",
      "|8|和 | 0.007121|\n",
      "|9|在 | 0.006480|\n",
      "|10|业 | 0.006321|\n"
     ]
    }
   ],
   "source": [
    "all_counter = Counter(corpus)\n",
    "sorted_char_count = dict(sorted(all_counter.items(), key=lambda x: x[1], reverse=True))\n",
    "\n",
    "for i, (x, y) in enumerate(sorted_char_count.items()):\n",
    "    if i < 10:\n",
    "        print(f\"|{i+1}|{x} | {(y / total_chars):.6f}|\")"
   ],
   "metadata": {
    "collapsed": false,
    "pycharm": {
     "name": "#%%\n"
    }
   }
  },
  {
   "cell_type": "code",
   "execution_count": 218,
   "outputs": [
    {
     "data": {
      "text/plain": "<Figure size 640x480 with 1 Axes>",
      "image/png": "[encoded data removed]"
     },
     "metadata": {},
     "output_type": "display_data"
    }
   ],
   "source": [
    "char_freq = [i for _, i in sorted_char_count.items()]\n",
    "\n",
    "char_freq_log = [math.log(i) for i in char_freq]\n",
    "plt.plot(char_freq_log[:-1000])\n",
    "plt.show()"
   ],
   "metadata": {
    "collapsed": false,
    "pycharm": {
     "name": "#%%\n"
    }
   }
  },
  {
   "cell_type": "markdown",
   "source": [
    "# 统计英文语料信息\n",
    "读取英文语料并清洗"
   ],
   "metadata": {
    "collapsed": false,
    "pycharm": {
     "name": "#%% md\n"
    }
   }
  },
  {
   "cell_type": "code",
   "source": [
    "with open(\"data/china_daily.txt\", 'r') as f1, open(\"data/global_times.txt\", 'r') as f2:\n",
    "    raw_english_corpus = f1.read()\n",
    "    raw_english_corpus += f2.read()\n",
    "\n",
    "eng_corpus = re.sub(r'[^a-zA-Z]', '', raw_english_corpus).lower()\n",
    "total_eng_chars = len(eng_corpus)\n",
    "total_eng_chars"
   ],
   "metadata": {
    "collapsed": false,
    "pycharm": {
     "name": "#%%\n"
    }
   },
   "execution_count": 183,
   "outputs": [
    {
     "data": {
      "text/plain": "19987245"
     },
     "execution_count": 183,
     "metadata": {},
     "output_type": "execute_result"
    }
   ]
  },
  {
   "cell_type": "markdown",
   "source": [
    "在2M规模语料上计算字母的概率和熵"
   ],
   "metadata": {
    "collapsed": false,
    "pycharm": {
     "name": "#%% md\n"
    }
   }
  },
  {
   "cell_type": "code",
   "execution_count": 184,
   "outputs": [
    {
     "data": {
      "text/plain": "Counter({'s': 127187,\n         'k': 10582,\n         'o': 146135,\n         'r': 120138,\n         'e': 229354,\n         'a': 173109,\n         'n': 167813,\n         'p': 46901,\n         'i': 168645,\n         't': 172882,\n         'y': 29019,\n         'l': 77876,\n         'd': 73417,\n         'u': 58907,\n         'g': 47344,\n         'j': 5294,\n         'm': 48511,\n         'c': 77905,\n         'v': 23191,\n         'w': 25227,\n         'h': 91504,\n         'x': 7241,\n         'f': 40869,\n         'b': 24259,\n         'q': 2056,\n         'z': 4634})"
     },
     "execution_count": 184,
     "metadata": {},
     "output_type": "execute_result"
    }
   ],
   "source": [
    "mini_eng_corpus = eng_corpus[:2000000]\n",
    "eng_char_count = Counter(mini_eng_corpus)\n",
    "eng_char_count"
   ],
   "metadata": {
    "collapsed": false,
    "pycharm": {
     "name": "#%%\n"
    }
   }
  },
  {
   "cell_type": "code",
   "execution_count": 185,
   "outputs": [
    {
     "name": "stdout",
     "output_type": "stream",
     "text": [
      "|1|e|0.114677|\n",
      "|2|a|0.086555|\n",
      "|3|t|0.086441|\n",
      "|4|i|0.084322|\n",
      "|5|n|0.083906|\n",
      "|6|o|0.073067|\n",
      "|7|s|0.063593|\n",
      "|8|r|0.060069|\n",
      "|9|h|0.045752|\n",
      "|10|c|0.038953|\n"
     ]
    }
   ],
   "source": [
    "sorted_eng_char_count = dict(sorted(eng_char_count.items(), key=lambda x: x[1], reverse=True))\n",
    "for i,(x, y) in enumerate(sorted_eng_char_count.items()):\n",
    "    if i < 10:\n",
    "        print(f'|{i+1}|{x}|{(y/2000000):.6f}|')"
   ],
   "metadata": {
    "collapsed": false,
    "pycharm": {
     "name": "#%%\n"
    }
   }
  },
  {
   "cell_type": "code",
   "execution_count": 186,
   "outputs": [
    {
     "data": {
      "text/plain": "4.177540071016238"
     },
     "execution_count": 186,
     "metadata": {},
     "output_type": "execute_result"
    }
   ],
   "source": [
    "cal_entrophy(eng_char_count, 2000000)"
   ],
   "metadata": {
    "collapsed": false,
    "pycharm": {
     "name": "#%%\n"
    }
   }
  },
  {
   "cell_type": "markdown",
   "source": [
    "计算熵随着英文文本规模增加的变化"
   ],
   "metadata": {
    "collapsed": false,
    "pycharm": {
     "name": "#%% md\n"
    }
   }
  },
  {
   "cell_type": "code",
   "execution_count": 211,
   "outputs": [],
   "source": [
    "entropy_list = []\n",
    "for i in range(2000000, 20000001, 2000000):\n",
    "    entropy = cal_entrophy(Counter(eng_corpus[:i]) ,i)\n",
    "    entropy_list.append(entropy)"
   ],
   "metadata": {
    "collapsed": false,
    "pycharm": {
     "name": "#%%\n"
    }
   }
  },
  {
   "cell_type": "code",
   "execution_count": 212,
   "outputs": [
    {
     "data": {
      "text/plain": "[4.177540071016238,\n 4.1765262785874,\n 4.176527430488102,\n 4.176835662635126,\n 4.176994375929282,\n 4.177002165340783,\n 4.177128469077472,\n 4.177365975007119,\n 4.176533525517015,\n 4.1728036547059375]"
     },
     "execution_count": 212,
     "metadata": {},
     "output_type": "execute_result"
    }
   ],
   "source": [
    "entropy_list"
   ],
   "metadata": {
    "collapsed": false,
    "pycharm": {
     "name": "#%%\n"
    }
   }
  },
  {
   "cell_type": "code",
   "execution_count": 213,
   "outputs": [
    {
     "data": {
      "text/plain": "<Figure size 640x480 with 1 Axes>",
      "image/png": "[encoded data removed]"
     },
     "metadata": {},
     "output_type": "display_data"
    }
   ],
   "source": [
    "plt.plot([2*i for i in range(1, 11)], entropy_list)\n",
    "plt.xticks([2*i for i in range(1, 11)])\n",
    "plt.xlabel(\"Data scale(M)\")\n",
    "plt.ylabel(\"entropy\")\n",
    "plt.ylim(4.1, 4.2)  # 设置y轴范围\n",
    "plt.show()"
   ],
   "metadata": {
    "collapsed": false,
    "pycharm": {
     "name": "#%%\n"
    }
   }
  },
  {
   "cell_type": "markdown",
   "source": [
    "验证齐夫定律"
   ],
   "metadata": {
    "collapsed": false,
    "pycharm": {
     "name": "#%% md\n"
    }
   }
  },
  {
   "cell_type": "code",
   "execution_count": 190,
   "outputs": [],
   "source": [
    "import string\n",
    "def count_words(text):\n",
    "    # 去除标点符号并将文本转为小写\n",
    "    text = text.translate(str.maketrans('', '', string.punctuation)).lower()\n",
    "    # 分词\n",
    "    words = text.split()\n",
    "    # 统计单词出现次数\n",
    "    word_counts = Counter(words)\n",
    "\n",
    "    return word_counts, len(words)"
   ],
   "metadata": {
    "collapsed": false,
    "pycharm": {
     "name": "#%%\n"
    }
   }
  },
  {
   "cell_type": "code",
   "execution_count": 214,
   "outputs": [
    {
     "name": "stdout",
     "output_type": "stream",
     "text": [
      "|1|the|256747\n",
      "|2|of|133959\n",
      "|3|and|133027\n",
      "|4|to|92380\n",
      "|5|in|92351\n",
      "|6|a|68247\n",
      "|7|for|33153\n",
      "|8|on|32606\n",
      "|9|is|30245\n",
      "|10|china|28389\n"
     ]
    }
   ],
   "source": [
    "# 统计单词出现次数\n",
    "word_counts, num_word = count_words(raw_english_corpus)\n",
    "sorted_word_count = dict(sorted(word_counts.items(), key=lambda x: x[1], reverse=True))\n",
    "\n",
    "# 打印结果\n",
    "for i, (word, count) in enumerate(sorted_word_count.items()):\n",
    "    if i < 10:\n",
    "        print(f\"|{i+1}|{word}|{count}\")"
   ],
   "metadata": {
    "collapsed": false,
    "pycharm": {
     "name": "#%%\n"
    }
   }
  },
  {
   "cell_type": "code",
   "execution_count": 215,
   "outputs": [
    {
     "data": {
      "text/plain": "<Figure size 640x480 with 1 Axes>",
      "image/png": "[encoded data removed]"
     },
     "metadata": {},
     "output_type": "display_data"
    }
   ],
   "source": [
    "import numpy as np\n",
    "word_freq = [i for _, i in sorted_word_count.items()]\n",
    "log_data = np.log(word_freq)\n",
    "log_index = np.log(range(1, len(word_freq) + 1))\n",
    "# 设置坐标轴标签\n",
    "plt.xlabel('Log(Index)')\n",
    "plt.ylabel('Log(Data)')\n",
    "# word_freq_log = [math.log(i) for i in word_freq]\n",
    "plt.plot(log_index, log_data)\n",
    "# 设置坐标轴标签\n",
    "plt.xlabel('log(r)')\n",
    "plt.ylabel('log(f)')\n",
    "plt.show()"
   ],
   "metadata": {
    "collapsed": false,
    "pycharm": {
     "name": "#%%\n"
    }
   }
  }
 ],
 "metadata": {
  "kernelspec": {
   "display_name": "Python 3",
   "language": "python",
   "name": "python3"
  },
  "language_info": {
   "codemirror_mode": {
    "name": "ipython",
    "version": 2
   },
   "file_extension": ".py",
   "mimetype": "text/x-python",
   "name": "python",
   "nbconvert_exporter": "python",
   "pygments_lexer": "ipython2",
   "version": "2.7.6"
  }
 },
 "nbformat": 4,
 "nbformat_minor": 0
}